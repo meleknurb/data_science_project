{
 "cells": [
  {
   "cell_type": "code",
   "execution_count": 27,
   "metadata": {},
   "outputs": [],
   "source": [
    "import csv\n",
    "import math\n",
    "import numpy as np\n"
   ]
  },
  {
   "cell_type": "markdown",
   "metadata": {},
   "source": [
    "\n",
    "Calculation of Mean, Median, Standard Deviation and Correlation"
   ]
  },
  {
   "cell_type": "code",
   "execution_count": 8,
   "metadata": {},
   "outputs": [],
   "source": [
    "def calculate_mean(lst):\n",
    "    return round(sum(lst) / len(lst))\n",
    "\n",
    "def calculate_median(lst):\n",
    "    lst.sort()\n",
    "    n = len(lst)\n",
    "    if n % 2 == 0:\n",
    "        return (lst[n//2-1] + lst[n//2]) / 2\n",
    "    else:\n",
    "        return lst[n//2]\n",
    "\n",
    "def calculate_std(lst,mean):\n",
    "    variance = sum((x - mean) ** 2 for x in lst) / len(lst)\n",
    "    return round(math.sqrt(variance))\n",
    "\n",
    "def calcule_correlation(x,y):\n",
    "    n = len(x)\n",
    "    sum_x = sum(x)\n",
    "    sum_y = sum(y)\n",
    "    sum_xy = sum(i*j for i,j in zip(x,y))\n",
    "    sum_x2 = sum(i**2 for i in x)\n",
    "    sum_y2 = sum(j**2 for j in y)\n",
    "\n",
    "    numerator = n * sum_xy - sum_x * sum_y\n",
    "    denominator = ((n * sum_x2 - sum_x**2) * (n * sum_y2 - sum_y**2)) ** 0.5\n",
    "    return numerator / denominator"
   ]
  },
  {
   "cell_type": "markdown",
   "metadata": {},
   "source": [
    "Descriptive Statistics"
   ]
  },
  {
   "cell_type": "code",
   "execution_count": 3,
   "metadata": {},
   "outputs": [
    {
     "name": "stdout",
     "output_type": "stream",
     "text": [
      "Age - Mean: 39, Median: 39.0, Standart Deviation: 14\n",
      "BMI - Mean: 31, Median: 30.4, Standart Deviation: 6\n",
      "Charges - Mean: 13270, Median: 9382.033, Standard Deviation: 12105\n"
     ]
    }
   ],
   "source": [
    "ages = []\n",
    "bmis = []\n",
    "charges = []\n",
    "with open(\"insurance.csv\", newline=\"\") as insurance_file:\n",
    "    insurance_reader = csv.DictReader(insurance_file)\n",
    "    for row in insurance_reader:\n",
    "        ages.append(float(row[\"age\"]))\n",
    "        bmis.append(float(row[\"bmi\"]))\n",
    "        charges.append(float(row[\"charges\"]))\n",
    "\n",
    "mean_age = calculate_mean(ages)\n",
    "median_age = calculate_median(ages)\n",
    "std_age = calculate_std(ages,mean_age)\n",
    "\n",
    "mean_bmi = calculate_mean(bmis)\n",
    "median_bmi = calculate_median(bmis)\n",
    "std_bmi = calculate_std(bmis,mean_bmi)\n",
    "\n",
    "mean_charges = calculate_mean(charges)\n",
    "median_charges = calculate_median(charges)\n",
    "std_charges = calculate_std(charges,mean_charges)\n",
    "\n",
    "print(f\"Age - Mean: {mean_age}, Median: {median_age}, Standart Deviation: {std_age}\")\n",
    "print(f\"BMI - Mean: {mean_bmi}, Median: {median_bmi}, Standart Deviation: {std_bmi}\")\n",
    "print(f\"Charges - Mean: {mean_charges}, Median: {median_charges}, Standard Deviation: {std_charges}\")"
   ]
  },
  {
   "cell_type": "markdown",
   "metadata": {},
   "source": [
    "Age and Insurance Costs: The age of 39 indicates that you are generally in the middle age group before applying for insurance. Because the health risks of aging increase, this age group can be a critical one for insurance companies.\n",
    "\n",
    "BMI and Insurance Costs: having an average BMI on the borderline of obesity and insurance costs having a high standard deviation may indicate that those with a higher BMI have more insurance costs due to health problems.\n",
    "Risk Groups: Since the obesity rate is high and the standard deviation is high, the costs of younger and normal-weight individuals may be low, while the costs of elderly and obese individuals may be quite high.\n",
    "\n",
    "Differences in Insurance Costs: A wide distribution in insurance costs indicates large differences between individuals. The duration of these types usually depends on variables such as smoking, age and BMI.\n",
    "Insurance Premium and Risk Management: For insurance companies, this data set may mean that they can identify risky groups with high costs and apply higher premiums to them.\n"
   ]
  },
  {
   "cell_type": "markdown",
   "metadata": {},
   "source": []
  },
  {
   "cell_type": "markdown",
   "metadata": {},
   "source": [
    "Insurance - BMI correlation relationship"
   ]
  },
  {
   "cell_type": "code",
   "execution_count": 4,
   "metadata": {},
   "outputs": [
    {
     "name": "stdout",
     "output_type": "stream",
     "text": [
      "Correlation Coefficient Between BMI and Charges 0.1983409688336287\n"
     ]
    }
   ],
   "source": [
    "bmis = []\n",
    "charges = []\n",
    "\n",
    "with open(\"insurance.csv\",newline=\"\") as insurance_file:\n",
    "    insurance_reader = csv.DictReader(insurance_file)\n",
    "    for row in insurance_reader:\n",
    "        bmis.append(float(row[\"bmi\"]))\n",
    "        charges.append(float(row[\"charges\"]))\n",
    "\n",
    "correlation_coefficient = calcule_correlation(bmis,charges)\n",
    "print(f\"Correlation Coefficient Between BMI and Charges {correlation_coefficient}\")"
   ]
  },
  {
   "cell_type": "markdown",
   "metadata": {},
   "source": [
    "A correlation coefficient of 0.1983 indicates a positive relationship between BMI and insurance costs. However, this relationship is at a weak level.\n",
    "\n",
    "Weak Positive Correlation: The correlation coefficient is around 0.2, indicating that insurance costs tend to increase with increasing BMI, but this relationship is not strong. This shows that BMI works together with other factors that affect insurance costs."
   ]
  },
  {
   "cell_type": "markdown",
   "metadata": {},
   "source": []
  },
  {
   "cell_type": "markdown",
   "metadata": {},
   "source": [
    "Insurance - Age correlation relationship"
   ]
  },
  {
   "cell_type": "code",
   "execution_count": 5,
   "metadata": {},
   "outputs": [
    {
     "name": "stdout",
     "output_type": "stream",
     "text": [
      "Correlation Coefficient Between Ages and Charges 0.2990081933306475\n"
     ]
    }
   ],
   "source": [
    "ages = []\n",
    "charges = []\n",
    "\n",
    "with open(\"insurance.csv\",newline=\"\") as insurance_file:\n",
    "    insurance_reader = csv.DictReader(insurance_file)\n",
    "    for row in insurance_reader:\n",
    "        ages.append(float(row[\"age\"]))\n",
    "        charges.append(float(row[\"charges\"]))\n",
    "\n",
    "correlation_coefficient = calcule_correlation(ages,charges)\n",
    "print(f\"Correlation Coefficient Between Ages and Charges {correlation_coefficient}\")"
   ]
  },
  {
   "cell_type": "markdown",
   "metadata": {},
   "source": [
    "Positive Correlation: If this coefficient is positive, it means that insurance costs increase with age. This means that older individuals generally tend to have higher insurance costs.\n",
    "\n",
    "Moderate Correlation: The coefficient being around 0.3 indicates that this relationship is at a moderate level. This means that age is an important factor affecting insurance costs, but it is not a sufficient determinant alone.\n",
    "\n",
    "Health Risk and Cost: As we get older, the likelihood of health problems generally increases. This can lead to more medical care and therefore higher insurance costs."
   ]
  },
  {
   "cell_type": "markdown",
   "metadata": {},
   "source": []
  },
  {
   "cell_type": "markdown",
   "metadata": {},
   "source": [
    "Insurance - Num of Children correlation relationship"
   ]
  },
  {
   "cell_type": "code",
   "execution_count": 6,
   "metadata": {},
   "outputs": [
    {
     "name": "stdout",
     "output_type": "stream",
     "text": [
      "Correlation Coefficient Between Num Children and Charges 0.2990081933306475\n"
     ]
    }
   ],
   "source": [
    "num_children = []\n",
    "charges = []\n",
    "\n",
    "with open(\"insurance.csv\",newline=\"\") as insurance_file:\n",
    "    insurance_reader = csv.DictReader(insurance_file)\n",
    "    for row in insurance_reader:\n",
    "        num_children.append(float(row[\"children\"]))\n",
    "        charges.append(float(row[\"charges\"]))\n",
    "\n",
    "correlation_coefficient = calcule_correlation(ages,charges)\n",
    "print(f\"Correlation Coefficient Between Num Children and Charges {correlation_coefficient}\")"
   ]
  },
  {
   "cell_type": "markdown",
   "metadata": {},
   "source": [
    "Positive Correlation: If this coefficient is positive, it means that insurance costs increase as the number of children increases. This means that individuals who have more children generally tend to have higher insurance costs.\n",
    "\n",
    "Moderate Correlation: The coefficient being around 0.3 indicates that this relationship is at a moderate level. This indicates that the number of children is an important factor affecting insurance costs, but is not a sufficient determinant alone.\n",
    "\n",
    "Impact of Family Structure: Having more children is generally associated with more healthcare expenses and therefore higher insurance costs. Families' needs for health care may increase, which may affect insurance premiums."
   ]
  },
  {
   "cell_type": "markdown",
   "metadata": {},
   "source": []
  },
  {
   "cell_type": "markdown",
   "metadata": {},
   "source": [
    "\n",
    "Women-Men Insurance Relationship"
   ]
  },
  {
   "cell_type": "code",
   "execution_count": 26,
   "metadata": {},
   "outputs": [
    {
     "name": "stdout",
     "output_type": "stream",
     "text": [
      "Average Insurance Cost for males 13957\n",
      "Average Insurance Cost for females 12570\n"
     ]
    }
   ],
   "source": [
    "males = []\n",
    "females = []\n",
    "\n",
    "with open(\"insurance.csv\",newline=\"\") as insurance_file:\n",
    "    insurance_reader = csv.DictReader(insurance_file)\n",
    "    for row in insurance_reader:\n",
    "        if row[\"sex\"] == \"male\":\n",
    "            males.append(float(row[\"charges\"]))\n",
    "        else:\n",
    "            females.append(float(row[\"charges\"]))\n",
    "    \n",
    "mean_male = calculate_mean(males)\n",
    "mean_female = calculate_mean(females)\n",
    "\n",
    "print(f\"Average Insurance Cost for males {mean_male}\")\n",
    "print(f\"Average Insurance Cost for females {mean_female}\")"
   ]
  },
  {
   "cell_type": "markdown",
   "metadata": {},
   "source": [
    "Men's insurance costs are, on average, higher than women's. This may indicate that men generally have more healthcare expenses in health insurance calculations or that their risk profile is higher than women."
   ]
  },
  {
   "cell_type": "markdown",
   "metadata": {},
   "source": []
  },
  {
   "cell_type": "markdown",
   "metadata": {},
   "source": [
    "Smoker-non-smoker insurance relationship"
   ]
  },
  {
   "cell_type": "code",
   "execution_count": 8,
   "metadata": {},
   "outputs": [
    {
     "name": "stdout",
     "output_type": "stream",
     "text": [
      "Average Insurance Cost for Smokers 32050\n",
      "Average Insurance Cost for Non-Smokers 8434\n",
      "Insurance Difference Between Smokers and Non-Smokers 23616\n"
     ]
    }
   ],
   "source": [
    "smoker_charges = []\n",
    "non_smoker_charges = []\n",
    "\n",
    "with open(\"insurance.csv\", newline=\"\") as insurance_file:\n",
    "    insurance_reader = csv.DictReader(insurance_file)\n",
    "    for row in insurance_reader:\n",
    "        if row[\"smoker\"] == \"yes\":\n",
    "            smoker_charges.append(float(row[\"charges\"]))\n",
    "        else:\n",
    "            non_smoker_charges.append(float(row[\"charges\"]))\n",
    "\n",
    "mean_smoker_charges = calculate_mean(smoker_charges)\n",
    "mean_non_smoker_charges = calculate_mean(non_smoker_charges)\n",
    "\n",
    "print(f\"Average Insurance Cost for Smokers {mean_smoker_charges}\")\n",
    "print(f\"Average Insurance Cost for Non-Smokers {mean_non_smoker_charges}\")\n",
    "\n",
    "difference = mean_smoker_charges - mean_non_smoker_charges\n",
    "print(f\"Insurance Difference Between Smokers and Non-Smokers {difference}\")\n",
    "\n",
    "\n"
   ]
  },
  {
   "cell_type": "markdown",
   "metadata": {},
   "source": [
    "Health and Financial Impact: These data show that smoking is not only limited to its negative effects on health, but also increases individuals' financial liabilities.\n",
    "\n",
    "Policy Development by Insurance Companies: Insurance companies can manage their healthy risks by applying higher premiums to smokers based on such data. They can also encourage healthy lifestyles by making insurance costs more attractive to non-smokers.\n",
    "\n",
    "Awareness for Public Health: Such analyzes can raise awareness about not only the individual health but also the financial consequences of smoking. Lower insurance costs for nonsmokers can help promote healthy lifestyles."
   ]
  },
  {
   "cell_type": "markdown",
   "metadata": {},
   "source": []
  },
  {
   "cell_type": "markdown",
   "metadata": {},
   "source": [
    "Sex and Smoker Status Relationship"
   ]
  },
  {
   "cell_type": "code",
   "execution_count": 6,
   "metadata": {},
   "outputs": [
    {
     "name": "stdout",
     "output_type": "stream",
     "text": [
      "Number of men who smoke  159\n",
      "Number of men who non-smoke  517\n",
      "Number of women who smoke  115\n",
      "Number of women who non-smoke  547\n"
     ]
    }
   ],
   "source": [
    "num_males_smokers = 0\n",
    "num_males_non_smokers = 0\n",
    "num_females_smokers = 0\n",
    "num_females_non_smokers = 0\n",
    "\n",
    "with open(\"insurance.csv\",newline=\"\") as insurance_file:\n",
    "    insurance_reader = csv.DictReader(insurance_file)\n",
    "    for row in insurance_reader:\n",
    "        sex = row[\"sex\"]\n",
    "        smoker = row[\"smoker\"]\n",
    "\n",
    "        if sex == \"male\" and smoker == \"yes\":\n",
    "            num_males_smokers += 1\n",
    "        elif sex == \"male\" and smoker == \"no\":\n",
    "            num_males_non_smokers += 1\n",
    "        elif sex == \"female\" and smoker == \"yes\":\n",
    "            num_females_smokers += 1\n",
    "        elif sex == \"female\" and smoker == \"no\":\n",
    "            num_females_non_smokers += 1\n",
    "\n",
    "print(\"Number of men who smoke \",num_males_smokers)\n",
    "print(\"Number of men who non-smoke \",num_males_non_smokers)\n",
    "print(\"Number of women who smoke \",num_females_smokers)\n",
    "print(\"Number of women who non-smoke \",num_females_non_smokers)\n"
   ]
  },
  {
   "cell_type": "markdown",
   "metadata": {},
   "source": [
    "These results reveal that the smoking rate of men is higher than that of women. In particular, while 23% of men smoke, only 17% of women smoke. This suggests that social and cultural factors may influence smoking habits across genders. Additionally, the high number of non-smokers in both genders may indicate that awareness of healthy living is increasing and smoking is decreasing."
   ]
  },
  {
   "cell_type": "markdown",
   "metadata": {},
   "source": []
  },
  {
   "cell_type": "markdown",
   "metadata": {},
   "source": [
    "Regional Insurance Differences"
   ]
  },
  {
   "cell_type": "code",
   "execution_count": 9,
   "metadata": {},
   "outputs": [
    {
     "name": "stdout",
     "output_type": "stream",
     "text": [
      "Average Insurance Cost for southwest region 12347\n",
      "Average Insurance Cost for northwest region 12418\n",
      "Average Insurance Cost for southeast region 14735\n",
      "Average Insurance Cost for northeast region 13406\n"
     ]
    }
   ],
   "source": [
    "southwest_region = []\n",
    "northwest_region = []\n",
    "southeast_region = []\n",
    "northeast_region = []\n",
    "\n",
    "with open(\"insurance.csv\",newline=\"\") as insurance_file:\n",
    "    insurance_reader = csv.DictReader(insurance_file)\n",
    "    for row in insurance_reader:\n",
    "        if row[\"region\"] == \"southwest\":\n",
    "            southwest_region.append(float(row[\"charges\"]))\n",
    "        elif row[\"region\"] == \"northwest\":\n",
    "            northwest_region.append(float(row[\"charges\"]))\n",
    "        elif row[\"region\"] == \"southeast\":\n",
    "            southeast_region.append(float(row[\"charges\"]))\n",
    "        else:\n",
    "            northeast_region.append(float(row[\"charges\"]))\n",
    "\n",
    "mean_sw = calculate_mean(southwest_region)\n",
    "mean_nw = calculate_mean(northwest_region)\n",
    "mean_se = calculate_mean(southeast_region)\n",
    "mean_ne = calculate_mean(northeast_region)\n",
    "\n",
    "print(f\"Average Insurance Cost for southwest region {mean_sw}\")\n",
    "print(f\"Average Insurance Cost for northwest region {mean_nw}\")\n",
    "print(f\"Average Insurance Cost for southeast region {mean_se}\")\n",
    "print(f\"Average Insurance Cost for northeast region {mean_ne}\")"
   ]
  },
  {
   "cell_type": "markdown",
   "metadata": {},
   "source": [
    "Southwest Region (Average Insurance Cost: 12,347): The average cost of insurance in this region is the lowest compared to other regions. This indicates that the structure of healthcare services, lifestyles or insurance policies in the region may be more suitable.\n",
    "\n",
    "Northwest Region (Average Insurance Cost: 12,418): It has an average that is quite close to the Southwest. This similarity suggests that healthcare services and demographic structure in the region may be similar.\n",
    "\n",
    "Southeast Region (Average Insurance Cost: 14,735): Insurance costs in this region are higher than the other three regions. This may be associated with difficulties accessing healthcare, higher health risks, or greater prevalence of health problems in the region.\n",
    "\n",
    "Northeast Region (Average Insurance Cost: 13,406): The average insurance cost in this region remains below the southeast region, but is higher than other regions. The fact that the Northeast is more densely populated and offers different health services may be among the factors affecting costs."
   ]
  },
  {
   "cell_type": "markdown",
   "metadata": {},
   "source": []
  },
  {
   "cell_type": "markdown",
   "metadata": {},
   "source": [
    "Finding outliers in the charges column using IQR and Z-score methods"
   ]
  },
  {
   "cell_type": "code",
   "execution_count": 11,
   "metadata": {},
   "outputs": [
    {
     "name": "stdout",
     "output_type": "stream",
     "text": [
      "Outliers with the IQR method:  [39611.7577, 36837.467, 37701.8768, 38711.0, 35585.576, 51194.55914, 39774.2763, 48173.361, 38709.176, 37742.5757, 47496.49445, 37165.1638, 39836.519, 43578.9394, 47291.055, 47055.5321, 39556.4945, 40720.55105, 36950.2567, 36149.4835, 48824.45, 43753.33705, 37133.8982, 34779.615, 38511.6283, 35160.13457, 47305.305, 44260.7499, 41097.16175, 43921.1837, 36219.40545, 46151.1245, 42856.838, 48549.17835, 47896.79135, 42112.2356, 38746.3551, 42124.5153, 34838.873, 35491.64, 42760.5022, 47928.03, 48517.56315, 41919.097, 36085.219, 38126.2465, 42303.69215, 46889.2612, 46599.1084, 39125.33225, 37079.372, 35147.52848, 48885.13561, 36197.699, 38245.59327, 48675.5177, 63770.42801, 45863.205, 39983.42595, 45702.02235, 58571.07448, 43943.8761, 39241.442, 42969.8527, 40182.246, 34617.84065, 42983.4585, 42560.4304, 40003.33225, 45710.20785, 46200.9851, 46130.5265, 40103.89, 34806.4677, 40273.6455, 44400.4064, 40932.4295, 40419.0191, 36189.1017, 44585.45587, 43254.41795, 36307.7983, 38792.6856, 55135.40209, 43813.8661, 39597.4072, 36021.0112, 45008.9555, 37270.1512, 42111.6647, 40974.1649, 46113.511, 46255.1125, 44202.6536, 48673.5588, 35069.37452, 39047.285, 47462.894, 38998.546, 41999.52, 41034.2214, 36580.28216, 35595.5898, 42211.1382, 44423.803, 37484.4493, 39725.51805, 44501.3982, 39727.614, 48970.2476, 39871.7043, 34672.1472, 41676.0811, 44641.1974, 41949.2441, 36124.5737, 38282.7495, 46661.4424, 40904.1995, 36898.73308, 52590.82939, 40941.2854, 39722.7462, 37465.34375, 36910.60803, 38415.474, 41661.602, 60021.39897, 47269.854, 49577.6624, 37607.5277, 47403.88, 38344.566, 34828.654, 62592.87309, 46718.16325, 37829.7242, 36397.576, 43896.3763]\n",
      "Outliers with Z-score method:  [51194.55914, 63770.42801, 58571.07448, 55135.40209, 52590.82939, 60021.39897, 62592.87309]\n"
     ]
    }
   ],
   "source": [
    "charges = []\n",
    "\n",
    "with open(\"insurance.csv\",newline=\"\") as insurance_file:\n",
    "    insurance_reader = csv.DictReader(insurance_file)\n",
    "    for row in insurance_reader:\n",
    "        charges.append(float(row[\"charges\"]))\n",
    "\n",
    "def find_outliers_iqr(data):\n",
    "    Q1 = np.percentile(data,25)\n",
    "    Q3 = np.percentile(data,75)\n",
    "    IQR = Q3 - Q1\n",
    "    lower_bound = Q1 - 1.5 * IQR\n",
    "    upper_bound = Q3 + 1.5 * IQR\n",
    "    outliers = [i for i in data if i < lower_bound or i > upper_bound]\n",
    "    return outliers\n",
    "\n",
    "def find_outliers_zscore(data):\n",
    "    mean = np.mean(data)\n",
    "    std_dev = np.std(data)\n",
    "    outliers = [i for i in data if (i-mean) / std_dev > 3 or (i-mean) / std_dev < -3]\n",
    "    return outliers\n",
    "\n",
    "outliers_iqr = find_outliers_iqr(charges)\n",
    "outliers_zscore = find_outliers_zscore(charges)\n",
    "\n",
    "print(\"Outliers with the IQR method: \",outliers_iqr)\n",
    "print(\"Outliers with Z-score method: \",outliers_zscore)"
   ]
  },
  {
   "cell_type": "markdown",
   "metadata": {},
   "source": [
    "Both methods are effective for detecting outliers in insurance premiums, but produce different results. While IQR flags a larger set of data as outliers, Z-score detects only the most extreme points. This difference should be taken into account during the analysis and interpretation of the data set.\n",
    "\n",
    "Additionally, the causes of outliers should be investigated and how these may impact risk assessments in insurance policies should be evaluated. This process can help set more equitable and effective insurance premiums."
   ]
  },
  {
   "cell_type": "markdown",
   "metadata": {},
   "source": []
  }
 ],
 "metadata": {
  "kernelspec": {
   "display_name": "Python 3",
   "language": "python",
   "name": "python3"
  },
  "language_info": {
   "codemirror_mode": {
    "name": "ipython",
    "version": 3
   },
   "file_extension": ".py",
   "mimetype": "text/x-python",
   "name": "python",
   "nbconvert_exporter": "python",
   "pygments_lexer": "ipython3",
   "version": "3.12.5"
  }
 },
 "nbformat": 4,
 "nbformat_minor": 2
}
